{
 "cells": [
  {
   "cell_type": "markdown",
   "metadata": {},
   "source": [
    "# Bull Credit Spread Research"
   ]
  },
  {
   "cell_type": "code",
   "execution_count": null,
   "metadata": {},
   "outputs": [],
   "source": [
    "import sys\n",
    "import os\n",
    "print(\"Python Executable:\", sys.executable)\n",
    "print(\"\\n sys.path:\")\n",
    "for p in sys.path:\n",
    "    print(p)\n",
    "\n",
    "# Check for quantconnect in the expected site-packages\n",
    "venv_site_packages = os.path.join(os.path.dirname(os.path.dirname(sys.executable)), 'lib', 'python3.13', 'site-packages')\n",
    "print(f\"\\nExpected venv site-packages: {venv_site_packages}\")\n",
    "print(f\"QuantConnect folder exists there: {os.path.exists(os.path.join(venv_site_packages, 'quantconnect'))}\")"
   ]
  },
  {
   "cell_type": "code",
   "execution_count": 1,
   "metadata": {},
   "outputs": [
    {
     "ename": "ModuleNotFoundError",
     "evalue": "No module named 'quantconnect'",
     "output_type": "error",
     "traceback": [
      "\u001b[31m---------------------------------------------------------------------------\u001b[39m",
      "\u001b[31mModuleNotFoundError\u001b[39m                       Traceback (most recent call last)",
      "\u001b[36mCell\u001b[39m\u001b[36m \u001b[39m\u001b[32mIn[1]\u001b[39m\u001b[32m, line 8\u001b[39m\n\u001b[32m      5\u001b[39m get_ipython().run_line_magic(\u001b[33m'\u001b[39m\u001b[33mmatplotlib\u001b[39m\u001b[33m'\u001b[39m, \u001b[33m'\u001b[39m\u001b[33minline\u001b[39m\u001b[33m'\u001b[39m)\n\u001b[32m      7\u001b[39m \u001b[38;5;66;03m# Initialize QuantConnect\u001b[39;00m\n\u001b[32m----> \u001b[39m\u001b[32m8\u001b[39m \u001b[38;5;28;01mfrom\u001b[39;00m\u001b[38;5;250m \u001b[39m\u001b[34;01mquantconnect\u001b[39;00m\u001b[38;5;250m \u001b[39m\u001b[38;5;28;01mimport\u001b[39;00m *\n\u001b[32m      9\u001b[39m qb = QuantBook()\n\u001b[32m     11\u001b[39m \u001b[38;5;66;03m# Set date range\u001b[39;00m\n",
      "\u001b[31mModuleNotFoundError\u001b[39m: No module named 'quantconnect'"
     ]
    }
   ],
   "source": [
    "# Import required libraries\n",
    "import pandas as pd\n",
    "import matplotlib.pyplot as plt\n",
    "from datetime import datetime, timedelta\n",
    "%matplotlib inline\n",
    "\n",
    "# Initialize QuantConnect\n",
    "from quantconnect import *\n",
    "qb = QuantBook()\n",
    "\n",
    "# Set date range\n",
    "start_date = datetime(2023, 1, 1)\n",
    "end_date = datetime(2023, 12, 31)\n",
    "qb.set_start_date(start_date)\n",
    "qb.set_end_date(end_date)\n",
    "\n",
    "print(\"✅ Environment ready\")"
   ]
  },
  {
   "cell_type": "code",
   "execution_count": null,
   "metadata": {},
   "outputs": [],
   "source": [
    "# Test data fetch\n",
    "symbol = qb.add_equity(\"SPY\").symbol\n",
    "history = qb.history([symbol], start_date, end_date, Resolution.Daily)\n",
    "\n",
    "if not history.empty:\n",
    "    print(f\"Retrieved {len(history)} data points for {symbol}\")\n",
    "    \n",
    "    # Plot closing prices\n",
    "    closes = history['close'].unstack(level=0)\n",
    "    plt.figure(figsize=(14, 7))\n",
    "    closes.plot()\n",
    "    plt.title(f\"{symbol} Price History\")\n",
    "    plt.grid(True)\n",
    "    plt.show()\n",
    "else:\n",
    "    print(\"No data retrieved\")"
   ]
  }
 ],
 "metadata": {
  "kernelspec": {
   "display_name": ".venv",
   "language": "python",
   "name": "python3"
  },
  "language_info": {
   "codemirror_mode": {
    "name": "ipython",
    "version": 3
   },
   "file_extension": ".py",
   "mimetype": "text/x-python",
   "name": "python",
   "nbconvert_exporter": "python",
   "pygments_lexer": "ipython3",
   "version": "3.13.2"
  }
 },
 "nbformat": 4,
 "nbformat_minor": 4
}
